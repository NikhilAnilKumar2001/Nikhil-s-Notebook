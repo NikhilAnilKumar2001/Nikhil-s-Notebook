{
 "cells": [
  {
   "cell_type": "markdown",
   "id": "126d8a2e-2048-471e-8756-b4ff28c8be15",
   "metadata": {},
   "source": [
    "# Data Science Tools and Ecosystem"
   ]
  },
  {
   "cell_type": "markdown",
   "id": "215a06bb-f371-45f5-bad6-a30974bd8686",
   "metadata": {},
   "source": [
    "In this notebook, Data Science Tools and Ecosystem are summarized."
   ]
  },
  {
   "cell_type": "markdown",
   "id": "7220ab93-c57c-4aa8-80ee-2d67e19e1ae4",
   "metadata": {},
   "source": [
    "**Objectives:** \n",
    "- Create a Jupyter Notebook\n",
    "- List popular languages for Data Science\n",
    "- List popular  libraries used by Data Scientists\n",
    "- Create a markdown cell with a table of Data Science tools\n",
    "- Evaluating arithmetic expressions in Python\r\n"
   ]
  },
  {
   "cell_type": "markdown",
   "id": "1a40dfb8-7467-4050-b11c-3af51e6041a8",
   "metadata": {},
   "source": [
    "Some of the popular languages that Data Scientists use are:\n",
    "1. Python\n",
    "2. R\n",
    "3. SQL\n",
    "4. Julia "
   ]
  },
  {
   "cell_type": "markdown",
   "id": "196b0f30-b26b-420b-9a2e-d28cab018f75",
   "metadata": {},
   "source": [
    "Some of the commonly used libraries used by Data Scientists include:\n",
    "- Pandas\n",
    "- Numpy\n",
    "- Matplotlib\n",
    "- scipy"
   ]
  },
  {
   "cell_type": "markdown",
   "id": "03512cd9-02d9-424d-a203-64b646bdfc69",
   "metadata": {},
   "source": [
    "| ------------------ | ---------------- | ------- | ------------ |\n",
    "| Data Science Tools | Jupyter Notebook | RStudio | Apache Spark | \n",
    "| ------------------ | ---------------- | ------- | ------------ |"
   ]
  },
  {
   "cell_type": "markdown",
   "id": "1d5a59d0-756b-400b-8a33-7cd66bc61fd8",
   "metadata": {},
   "source": [
    "### Below are a few examples of evaluating arithmetic expressions in Python"
   ]
  },
  {
   "cell_type": "code",
   "execution_count": 24,
   "id": "bbe4bc8e-843a-43f5-b1b0-f932a1f60e4e",
   "metadata": {},
   "outputs": [
    {
     "data": {
      "text/plain": [
       "17"
      ]
     },
     "execution_count": 24,
     "metadata": {},
     "output_type": "execute_result"
    }
   ],
   "source": [
    "(3*4)+5 # This a simple arithmetic expression to mutiply then add integers"
   ]
  },
  {
   "cell_type": "code",
   "execution_count": 31,
   "id": "dc0273c9-44f5-4823-b4b9-ad9f5371bd16",
   "metadata": {},
   "outputs": [
    {
     "name": "stdout",
     "output_type": "stream",
     "text": [
      "200 minutes is equal to 3.3333333333333335 hours\n"
     ]
    }
   ],
   "source": [
    "# This will convert 200 minutes to hours by dividing by 60\n",
    "minutes = 200\n",
    "hours = minutes / 60\n",
    "print(f\"{minutes} minutes is equal to {hours} hours\")"
   ]
  },
  {
   "cell_type": "code",
   "execution_count": null,
   "id": "7848a6e9-36ff-489e-a9d9-ff4f6ee6f58d",
   "metadata": {},
   "outputs": [],
   "source": []
  }
 ],
 "metadata": {
  "kernelspec": {
   "display_name": "Python 3 (ipykernel)",
   "language": "python",
   "name": "python3"
  },
  "language_info": {
   "codemirror_mode": {
    "name": "ipython",
    "version": 3
   },
   "file_extension": ".py",
   "mimetype": "text/x-python",
   "name": "python",
   "nbconvert_exporter": "python",
   "pygments_lexer": "ipython3",
   "version": "3.12.4"
  }
 },
 "nbformat": 4,
 "nbformat_minor": 5
}
